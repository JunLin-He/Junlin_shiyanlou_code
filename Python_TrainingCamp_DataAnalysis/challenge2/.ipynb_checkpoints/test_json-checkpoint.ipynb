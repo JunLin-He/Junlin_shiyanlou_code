{
 "cells": [
  {
   "cell_type": "code",
   "execution_count": 2,
   "metadata": {},
   "outputs": [],
   "source": [
    "import json\n",
    "import pandas as pd"
   ]
  },
  {
   "cell_type": "code",
   "execution_count": 3,
   "metadata": {},
   "outputs": [],
   "source": [
    "with open('user_study.json') as file:\n",
    "    user_study_data = json.loads(file.read())"
   ]
  },
  {
   "cell_type": "code",
   "execution_count": null,
   "metadata": {},
   "outputs": [],
   "source": [
    "type(user_study_data)"
   ]
  },
  {
   "cell_type": "code",
   "execution_count": 6,
   "metadata": {},
   "outputs": [
    {
     "data": {
      "text/plain": [
       "{'minutes': 6,\n",
       " 'created_at': '2016-05-01 00:00:15',\n",
       " 'user_id': 199373,\n",
       " 'lab': 'Linux 系统简介',\n",
       " 'course': 'Linux 基础入门（新版）'}"
      ]
     },
     "execution_count": 6,
     "metadata": {},
     "output_type": "execute_result"
    }
   ],
   "source": [
    "user_study_data[1]"
   ]
  },
  {
   "cell_type": "code",
   "execution_count": 4,
   "metadata": {},
   "outputs": [],
   "source": [
    "df = pd.read_json('user_study.json')\n",
    "#pd.read_json('user_study.json')"
   ]
  },
  {
   "cell_type": "code",
   "execution_count": 6,
   "metadata": {
    "scrolled": true
   },
   "outputs": [
    {
     "data": {
      "text/html": [
       "<div>\n",
       "<style scoped>\n",
       "    .dataframe tbody tr th:only-of-type {\n",
       "        vertical-align: middle;\n",
       "    }\n",
       "\n",
       "    .dataframe tbody tr th {\n",
       "        vertical-align: top;\n",
       "    }\n",
       "\n",
       "    .dataframe thead th {\n",
       "        text-align: right;\n",
       "    }\n",
       "</style>\n",
       "<table border=\"1\" class=\"dataframe\">\n",
       "  <thead>\n",
       "    <tr style=\"text-align: right;\">\n",
       "      <th></th>\n",
       "      <th>course</th>\n",
       "      <th>created_at</th>\n",
       "      <th>lab</th>\n",
       "      <th>minutes</th>\n",
       "      <th>user_id</th>\n",
       "    </tr>\n",
       "  </thead>\n",
       "  <tbody>\n",
       "    <tr>\n",
       "      <th>28281</th>\n",
       "      <td>新手指南之玩转实验楼</td>\n",
       "      <td>2016-05-20 09:26:58</td>\n",
       "      <td>Hello，ShiYanLou!</td>\n",
       "      <td>6</td>\n",
       "      <td>5348</td>\n",
       "    </tr>\n",
       "    <tr>\n",
       "      <th>28317</th>\n",
       "      <td>新手指南之玩转实验楼</td>\n",
       "      <td>2016-05-20 09:49:15</td>\n",
       "      <td>Hello，ShiYanLou!</td>\n",
       "      <td>6</td>\n",
       "      <td>5348</td>\n",
       "    </tr>\n",
       "    <tr>\n",
       "      <th>37542</th>\n",
       "      <td>新手指南之玩转实验楼</td>\n",
       "      <td>2016-05-26 17:00:37</td>\n",
       "      <td>Hello，ShiYanLou!</td>\n",
       "      <td>9</td>\n",
       "      <td>5348</td>\n",
       "    </tr>\n",
       "    <tr>\n",
       "      <th>87504</th>\n",
       "      <td>Node.js包教不包会</td>\n",
       "      <td>2016-06-28 13:14:46</td>\n",
       "      <td>一个最简单的 express 应用</td>\n",
       "      <td>3</td>\n",
       "      <td>5348</td>\n",
       "    </tr>\n",
       "  </tbody>\n",
       "</table>\n",
       "</div>"
      ],
      "text/plain": [
       "             course          created_at                lab  minutes  user_id\n",
       "28281    新手指南之玩转实验楼 2016-05-20 09:26:58   Hello，ShiYanLou!        6     5348\n",
       "28317    新手指南之玩转实验楼 2016-05-20 09:49:15   Hello，ShiYanLou!        6     5348\n",
       "37542    新手指南之玩转实验楼 2016-05-26 17:00:37   Hello，ShiYanLou!        9     5348\n",
       "87504  Node.js包教不包会 2016-06-28 13:14:46  一个最简单的 express 应用        3     5348"
      ]
     },
     "execution_count": 6,
     "metadata": {},
     "output_type": "execute_result"
    }
   ],
   "source": [
    "user_id = 5348\n",
    "df[df['user_id'] == user_id]"
   ]
  },
  {
   "cell_type": "code",
   "execution_count": 8,
   "metadata": {},
   "outputs": [
    {
     "data": {
      "text/plain": [
       "24"
      ]
     },
     "execution_count": 8,
     "metadata": {},
     "output_type": "execute_result"
    }
   ],
   "source": [
    "df[df['user_id'] == user_id]['minutes'].sum()"
   ]
  },
  {
   "cell_type": "code",
   "execution_count": 9,
   "metadata": {},
   "outputs": [
    {
     "name": "stdout",
     "output_type": "stream",
     "text": [
      "times:  4\n",
      "minutes:  24\n"
     ]
    }
   ],
   "source": [
    "times = len(df[df['user_id'] == user_id])\n",
    "minutes = df[df['user_id'] == user_id]['minutes'].sum()\n",
    "print('times: ', times)\n",
    "print('minutes: ', minutes)"
   ]
  },
  {
   "cell_type": "code",
   "execution_count": null,
   "metadata": {},
   "outputs": [],
   "source": []
  }
 ],
 "metadata": {
  "kernelspec": {
   "display_name": "Python 3",
   "language": "python",
   "name": "python3"
  },
  "language_info": {
   "codemirror_mode": {
    "name": "ipython",
    "version": 3
   },
   "file_extension": ".py",
   "mimetype": "text/x-python",
   "name": "python",
   "nbconvert_exporter": "python",
   "pygments_lexer": "ipython3",
   "version": "3.7.0"
  }
 },
 "nbformat": 4,
 "nbformat_minor": 2
}
