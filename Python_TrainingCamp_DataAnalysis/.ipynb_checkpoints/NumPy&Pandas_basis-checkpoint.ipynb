{
 "cells": [
  {
   "cell_type": "code",
   "execution_count": 21,
   "metadata": {},
   "outputs": [],
   "source": [
    "import numpy as np\n",
    "import pandas as pd\n",
    "from pandas import Series, DataFrame\n",
    "from datetime import datetime, timedelta"
   ]
  },
  {
   "cell_type": "code",
   "execution_count": null,
   "metadata": {},
   "outputs": [],
   "source": [
    "#Part one: Numpy basis"
   ]
  },
  {
   "cell_type": "code",
   "execution_count": 57,
   "metadata": {},
   "outputs": [],
   "source": [
    "# 多维数组的创建\n",
    "# NumPy 的核心是多维数组，是通过 ndarray对象做到的，\n",
    "# ndarray 对象是一个灵活的数据容器，可以基于此容器对数据进行各种运算"
   ]
  },
  {
   "cell_type": "code",
   "execution_count": 19,
   "metadata": {},
   "outputs": [
    {
     "name": "stdout",
     "output_type": "stream",
     "text": [
      "[1 2 3 4]\n",
      "shape:  (4,)\n",
      "size:  4\n",
      "dtype:  int64\n",
      "type:  <class 'numpy.ndarray'>\n"
     ]
    }
   ],
   "source": [
    "# Demo 1\n",
    "a1 = np.array([1, 2, 3, 4])\n",
    "print(a1)\n",
    "print(\"shape: \", a1.shape)\n",
    "print(\"size: \", a1.size)\n",
    "print(\"dtype: \", a1.dtype)\n",
    "print(\"type: \", type(a1))"
   ]
  },
  {
   "cell_type": "code",
   "execution_count": 21,
   "metadata": {},
   "outputs": [
    {
     "name": "stdout",
     "output_type": "stream",
     "text": [
      "[[1.  2.5 3. ]\n",
      " [0.5 4.  9. ]]\n",
      "shape:  (2, 3)\n",
      "size:  6\n",
      "dtype:  float64\n",
      "min:  0.5\n",
      "type:  <class 'numpy.ndarray'>\n",
      "demension:  2\n"
     ]
    }
   ],
   "source": [
    "# Demo2\n",
    "a2 = np.array([[1.0, 2.5, 3], [0.5, 4, 9]])\n",
    "print(a2)\n",
    "print(\"shape: \", a2.shape)\n",
    "print(\"size: \", a2.size)\n",
    "print(\"dtype: \", a2.dtype)\n",
    "print(\"min: \", a2.min())\n",
    "print(\"type: \", type(a2))\n",
    "print(\"demension: \", a2.ndim)    # 获取该ndarray的维度"
   ]
  },
  {
   "cell_type": "code",
   "execution_count": 23,
   "metadata": {},
   "outputs": [],
   "source": [
    "#Part two: Pandas basis"
   ]
  },
  {
   "cell_type": "code",
   "execution_count": 36,
   "metadata": {},
   "outputs": [
    {
     "name": "stdout",
     "output_type": "stream",
     "text": [
      "【s1】: \n",
      " 0    1\n",
      "1    2\n",
      "2    3\n",
      "3    4\n",
      "4    5\n",
      "dtype: int64 \n",
      "\n",
      "【s2】: \n",
      " a    1\n",
      "b    2\n",
      "c    3\n",
      "d    4\n",
      "e    5\n",
      "dtype: int64\n",
      "Index(['a', 'b', 'c', 'd', 'e'], dtype='object', name='index')\n",
      "index\n",
      "a    1\n",
      "b    2\n",
      "c    3\n",
      "d    4\n",
      "e    5\n",
      "dtype: int64\n"
     ]
    }
   ],
   "source": [
    "# Series\n",
    "# Series 是值的序列，可以理解为一纬数组，它只有一个列和 索引。\n",
    "# 索引可以定制，当不指定时默认使用整数索引，而且索引可以被命名\n",
    "s1 = Series([1, 2, 3, 4, 5])\n",
    "print(\"【s1】: \\n\", s1, '\\n')\n",
    "s2 = Series([1, 2, 3, 4, 5], index=['a', 'b', 'c', 'd', 'e'])\n",
    "print(\"【s2】: \\n\", s2)\n",
    "# print(s2.index.name)\n",
    "# Changed the index of s2\n",
    "s2.index.name = 'index'\n",
    "print(s2.index)\n",
    "print(s2)"
   ]
  },
  {
   "cell_type": "code",
   "execution_count": 37,
   "metadata": {},
   "outputs": [
    {
     "name": "stdout",
     "output_type": "stream",
     "text": [
      "          A         B         C         D\n",
      "a -1.633656  0.114227  0.953976  1.158825\n",
      "b  0.596153  2.176028  0.013366 -1.812226\n",
      "c  0.626528 -1.283990  1.226551 -1.120595\n",
      "d  1.190887 -1.330308 -0.447081 -0.710326\n",
      "index:  Index(['a', 'b', 'c', 'd'], dtype='object')\n",
      "columns:  Index(['A', 'B', 'C', 'D'], dtype='object')\n"
     ]
    }
   ],
   "source": [
    "# DataFrame\n",
    "df = DataFrame(np.random.randn(4, 4), index=['a', 'b', 'c', 'd'], columns=['A', 'B', 'C', 'D'])\n",
    "print(df)\n",
    "print(\"index: \", df.index)\n",
    "print(\"columns: \", df.columns)"
   ]
  },
  {
   "cell_type": "code",
   "execution_count": 42,
   "metadata": {},
   "outputs": [
    {
     "name": "stdout",
     "output_type": "stream",
     "text": [
      "a    1\n",
      "b    2\n",
      "c    3\n",
      "d    4\n",
      "e    5\n",
      "dtype: int64 \n",
      "\n",
      "1 \n",
      "\n",
      "1 \n",
      "\n",
      "a    1\n",
      "b    2\n",
      "c    3\n",
      "dtype: int64 \n",
      "\n",
      "a    1\n",
      "b    2\n",
      "c    3\n",
      "dtype: int64 \n",
      "\n",
      "a    1\n",
      "b    2\n",
      "c    3\n",
      "dtype: int64 \n",
      "\n",
      "a    1\n",
      "b    2\n",
      "c    3\n",
      "dtype: int64\n"
     ]
    }
   ],
   "source": [
    "###########筛选数据##############\n",
    "# Series\n",
    "s2 = Series([1, 2, 3, 4, 5], index=['a', 'b', 'c', 'd', 'e'])\n",
    "print(s2, '\\n')\n",
    "print(s2[0], '\\n')    # The first element\n",
    "print(s2['a'], '\\n')    # Select element according to the index\n",
    "print(s2[0:3], '\\n')    # Slice according to sequence\n",
    "print(s2.iloc[0:3], '\\n')\n",
    "print(s2['a':'c'], '\\n')    # Slice according to index\n",
    "print(s2.loc['a':'c'])"
   ]
  },
  {
   "cell_type": "code",
   "execution_count": 55,
   "metadata": {},
   "outputs": [
    {
     "name": "stdout",
     "output_type": "stream",
     "text": [
      "1.获取单列数据\n",
      "a   -1.633656\n",
      "b    0.596153\n",
      "c    0.626528\n",
      "d    1.190887\n",
      "Name: A, dtype: float64 \n",
      "\n",
      "a   -1.633656\n",
      "b    0.596153\n",
      "c    0.626528\n",
      "d    1.190887\n",
      "Name: A, dtype: float64 \n",
      "\n",
      "2.获取多列数据\n",
      "          A         B\n",
      "a -1.633656  0.114227\n",
      "b  0.596153  2.176028\n",
      "c  0.626528 -1.283990\n",
      "d  1.190887 -1.330308 \n",
      "\n",
      "          B         C         D\n",
      "a  0.114227  0.953976  1.158825\n",
      "b  2.176028  0.013366 -1.812226\n",
      "c -1.283990  1.226551 -1.120595\n",
      "d -1.330308 -0.447081 -0.710326 \n",
      "\n",
      "3.选择单行数据\n",
      "A   -1.633656\n",
      "B    0.114227\n",
      "C    0.953976\n",
      "D    1.158825\n",
      "Name: a, dtype: float64 \n",
      "\n",
      "4.选择多行数据\n",
      "          A         B         C         D\n",
      "a -1.633656  0.114227  0.953976  1.158825\n",
      "b  0.596153  2.176028  0.013366 -1.812226\n",
      "c  0.626528 -1.283990  1.226551 -1.120595 \n",
      "\n",
      "5.选择具体某行某列\n",
      "第a行第A列： -1.6336557125744786 \n",
      "\n",
      "          B         C\n",
      "b  2.176028  0.013366\n",
      "c -1.283990  1.226551\n"
     ]
    }
   ],
   "source": [
    "# DataFrame\n",
    "# 1.选择列\n",
    "# 1.1 获取单列数据\n",
    "print('1.获取单列数据')\n",
    "print(df.A, '\\n')\n",
    "print(df['A'], '\\n')\n",
    "\n",
    "# 1.2 获取多列数据\n",
    "print('2.获取多列数据')\n",
    "print(df[df.columns[0:2]], '\\n')\n",
    "print(df.loc[:, ['B', 'C', 'D']], '\\n')\n",
    "\n",
    "# 2.选择行\n",
    "# 2.1 选择单行数据\n",
    "print('3.选择单行数据')\n",
    "print(df.loc['a'], '\\n')\n",
    "\n",
    "# 2.2 选择多行数据\n",
    "print('4.选择多行数据')\n",
    "print(df.loc['a':'c'], '\\n')\n",
    "\n",
    "# 3.选择具体某行某列\n",
    "print('5.选择具体某行某列')\n",
    "print('第a行第A列：', df.loc['a', 'A'], '\\n')\n",
    "print(df.loc['b':'c', 'B':'C'])"
   ]
  },
  {
   "cell_type": "code",
   "execution_count": 59,
   "metadata": {},
   "outputs": [
    {
     "name": "stdout",
     "output_type": "stream",
     "text": [
      "a    1\n",
      "b    2\n",
      "c    3\n",
      "d    4\n",
      "dtype: int64\n",
      "b    2\n",
      "c    3\n",
      "d    4\n",
      "e    5\n",
      "dtype: int64 \n",
      "\n",
      "s1+s2: \n",
      "a    NaN\n",
      "b    4.0\n",
      "c    6.0\n",
      "d    8.0\n",
      "e    NaN\n",
      "dtype: float64\n"
     ]
    }
   ],
   "source": [
    "###########缺失值和数据自动对齐##############\n",
    "# 将两个 Series 数据进行相加时，如果存在不同的索引，则结果是两个索引的并集\n",
    "s1 = Series([1, 2, 3, 4], index=['a', 'b', 'c', 'd'])\n",
    "print(s1)\n",
    "s2 = Series([2, 3, 4, 5], index=['b', 'c', 'd', 'e'])\n",
    "print(s2, '\\n')\n",
    "print('s1+s2: ')\n",
    "print(s1 + s2)"
   ]
  },
  {
   "cell_type": "code",
   "execution_count": 61,
   "metadata": {},
   "outputs": [
    {
     "name": "stdout",
     "output_type": "stream",
     "text": [
      "   A  B  C\n",
      "a  0  1  2\n",
      "b  3  4  5\n",
      "c  6  7  8\n",
      "   A  B   D   E\n",
      "b  0  1   2   3\n",
      "c  4  5   6   7\n",
      "d  8  9  10  11\n",
      "      A     B   C   D   E\n",
      "a   NaN   NaN NaN NaN NaN\n",
      "b   3.0   5.0 NaN NaN NaN\n",
      "c  10.0  12.0 NaN NaN NaN\n",
      "d   NaN   NaN NaN NaN NaN\n",
      "      A     B    C     D     E\n",
      "a   0.0   1.0  2.0   NaN   NaN\n",
      "b   3.0   5.0  5.0   2.0   3.0\n",
      "c  10.0  12.0  8.0   6.0   7.0\n",
      "d   8.0   9.0  NaN  10.0  11.0\n"
     ]
    }
   ],
   "source": [
    "df1 = DataFrame(np.arange(9).reshape(3,3), columns=list('ABC'), index=list('abc'))\n",
    "print(df1)\n",
    "df2 = DataFrame(np.arange(12).reshape(3,4), columns=list('ABDE'), index=list('bcd'))\n",
    "print(df2)\n",
    "print(df1+df2)\n",
    "# 计算时，可以指定使用值来填充 NaN 值，然后带入计算过程\n",
    "print(df1.add(df2, fill_value=0))"
   ]
  },
  {
   "cell_type": "code",
   "execution_count": 7,
   "metadata": {},
   "outputs": [
    {
     "name": "stdout",
     "output_type": "stream",
     "text": [
      "df1:\n",
      "   A  B  C\n",
      "a  0  1  2\n",
      "b  3  4  5\n",
      "c  6  7  8 \n",
      "\n",
      "A    6\n",
      "B    6\n",
      "C    6\n",
      "dtype: int64\n",
      "a    2\n",
      "b    2\n",
      "c    2\n",
      "dtype: int64 \n",
      "\n",
      "   A  B  C\n",
      "a  1  2  3\n",
      "b  4  5  6\n",
      "c  7  8  9\n",
      "   A  B  C\n",
      "a  1  2  3\n",
      "b  4  5  6\n",
      "c  7  8  9\n"
     ]
    }
   ],
   "source": [
    "###########常用运算##############\n",
    "df1 = DataFrame(np.arange(9).reshape(3,3), columns=list('ABC'), index=list('abc'))\n",
    "print('df1:')\n",
    "print(df1, '\\n')\n",
    "\n",
    "f = lambda x: x.max() - x.min()    # f is a lambda function\n",
    "print(df1.apply(f))\n",
    "print(df1.apply(f, axis=1), '\\n')\n",
    "\n",
    "print(df1.applymap(lambda x: x+1))\n",
    "print(df1+1)"
   ]
  },
  {
   "cell_type": "code",
   "execution_count": 8,
   "metadata": {},
   "outputs": [
    {
     "name": "stdout",
     "output_type": "stream",
     "text": [
      "df2: \n",
      "   A  B  C\n",
      "a  0  1  2\n",
      "b  3  4  5\n",
      "c  6  7  8 \n",
      "\n",
      "sum: \n",
      "A     9\n",
      "B    12\n",
      "C    15\n",
      "dtype: int64 \n",
      "\n",
      "mean: \n",
      "A    3.0\n",
      "B    4.0\n",
      "C    5.0\n",
      "dtype: float64 \n",
      "\n",
      "各行的和：\n",
      "a     3\n",
      "b    12\n",
      "c    21\n",
      "dtype: int64 \n",
      "\n",
      "Describe: \n",
      "         A    B    C\n",
      "count  3.0  3.0  3.0\n",
      "mean   3.0  4.0  5.0\n",
      "std    3.0  3.0  3.0\n",
      "min    0.0  1.0  2.0\n",
      "25%    1.5  2.5  3.5\n",
      "50%    3.0  4.0  5.0\n",
      "75%    4.5  5.5  6.5\n",
      "max    6.0  7.0  8.0\n"
     ]
    }
   ],
   "source": [
    "###########常用统计##############\n",
    "df2 = DataFrame(np.arange(9).reshape(3,3), columns=list('ABC'), index=list('abc'))\n",
    "print('df2: ')\n",
    "print(df2, '\\n')\n",
    "\n",
    "print('sum: ')    # 默认求各列的和\n",
    "print(df2.sum(), '\\n')\n",
    "\n",
    "print('mean: ')\n",
    "print(df2.mean(), '\\n')\n",
    "\n",
    "print('各行的和：')\n",
    "print(df2.sum(axis=1), '\\n')\n",
    "\n",
    "print('Describe: ')\n",
    "print(df2.describe())"
   ]
  },
  {
   "cell_type": "code",
   "execution_count": 9,
   "metadata": {},
   "outputs": [],
   "source": [
    "###########数据合并和分组##############\n",
    "# 有的时候需要合并两个 DataFrame 数据，\n",
    "# 合并数据的方式主要有两种，\n",
    "# 一种简单的进行拼接，\n",
    "# 另一种是根据列名类像数据库表查询一样进行合并。\n",
    "# 这两种操作可以分别通过调用 pandas.concat 和 pandas.merge 方法实现"
   ]
  },
  {
   "cell_type": "code",
   "execution_count": 12,
   "metadata": {},
   "outputs": [
    {
     "name": "stdout",
     "output_type": "stream",
     "text": [
      "df1: \n",
      "          0         1         2\n",
      "0  1.603171  0.632921  0.004161\n",
      "1 -1.393809  1.009721  1.178478\n",
      "2  0.567075  0.263190  1.226931 \n",
      "\n",
      "df2: \n",
      "          0         1         2\n",
      "5  0.881496 -0.708782 -0.470912\n",
      "6 -0.558005 -0.264529 -1.408893\n",
      "7 -0.235711  0.282279  0.068476 \n",
      "\n",
      "Concat: \n",
      "          0         1         2\n",
      "0  1.603171  0.632921  0.004161\n",
      "1 -1.393809  1.009721  1.178478\n",
      "2  0.567075  0.263190  1.226931\n",
      "5  0.881496 -0.708782 -0.470912\n",
      "6 -0.558005 -0.264529 -1.408893\n",
      "7 -0.235711  0.282279  0.068476\n"
     ]
    }
   ],
   "source": [
    "# pd.concat()\n",
    "df1 = DataFrame(np.random.randn(3, 3))\n",
    "df2 = DataFrame(np.random.randn(3, 3), index=[5, 6, 7])\n",
    "print('df1: ')\n",
    "print(df1, '\\n')\n",
    "print('df2: ')\n",
    "print(df2, '\\n')\n",
    "print('Concat: ')\n",
    "print(pd.concat([df1, df2]))"
   ]
  },
  {
   "cell_type": "code",
   "execution_count": 15,
   "metadata": {},
   "outputs": [
    {
     "name": "stdout",
     "output_type": "stream",
     "text": [
      "   user_id  course  minutes\n",
      "0     5348      12        9\n",
      "1       13      45       36 \n",
      "\n",
      "   course        name\n",
      "0      12  Linux 基础入门\n",
      "1      45        数据分析 \n",
      "\n",
      "   user_id  course  minutes        name\n",
      "0     5348      12        9  Linux 基础入门\n",
      "1       13      45       36        数据分析\n"
     ]
    }
   ],
   "source": [
    "# pd.merge()\n",
    "# 类似于数据库中的 inner join 操作\n",
    "df1 = DataFrame({'user_id': [5348, 13], 'course': [12, 45], 'minutes': [9, 36]})\n",
    "df2 = DataFrame({'course': [12, 45], 'name': ['Linux 基础入门', '数据分析']})\n",
    "print(df1, '\\n')\n",
    "print(df2, '\\n')\n",
    "print(pd.merge(df1, df2))"
   ]
  },
  {
   "cell_type": "code",
   "execution_count": 20,
   "metadata": {},
   "outputs": [
    {
     "name": "stdout",
     "output_type": "stream",
     "text": [
      "   user_id  course  minutes\n",
      "0     5348      12        9\n",
      "1       13      45       36\n",
      "2     5348      23       45 \n",
      "\n",
      "54 \n",
      "\n",
      "   user_id  minutes\n",
      "0     5348        9\n",
      "1       13       36\n",
      "2     5348       45 \n",
      "\n",
      "         minutes\n",
      "user_id         \n",
      "13            36\n",
      "5348          54\n"
     ]
    }
   ],
   "source": [
    "# group by 操作\n",
    "df = DataFrame({'user_id': [5348, 13, 5348], 'course': [12, 45, 23], 'minutes': [9, 36, 45]})\n",
    "print(df, '\\n')\n",
    "print(df[df['user_id'] == 5348]['minutes'].sum(), '\\n')\n",
    "print(df[['user_id', 'minutes']], '\\n')\n",
    "print(df[['user_id', 'minutes']].groupby('user_id').sum())"
   ]
  },
  {
   "cell_type": "code",
   "execution_count": 28,
   "metadata": {},
   "outputs": [
    {
     "name": "stdout",
     "output_type": "stream",
     "text": [
      "2018-01-01   -0.601780\n",
      "2018-01-02    1.269104\n",
      "2018-01-03   -0.923605\n",
      "2018-01-04    1.914095\n",
      "dtype: float64\n",
      "DatetimeIndex(['2018-01-01', '2018-01-02', '2018-01-03', '2018-01-04'], dtype='datetime64[ns]', freq=None)\n"
     ]
    },
    {
     "data": {
      "text/plain": [
       "Timestamp('2018-01-01 00:00:00')"
      ]
     },
     "execution_count": 28,
     "metadata": {},
     "output_type": "execute_result"
    }
   ],
   "source": [
    "###########时间序列处理##############\n",
    "dates = [datetime(2018, 1, 1), datetime(2018, 1, 2), datetime(2018, 1, 3), datetime(2018, 1,4)]\n",
    "ts = Series(np.random.randn(4), index=dates)\n",
    "print(ts)\n",
    "print(ts.index)\n",
    "ts.index[0]"
   ]
  },
  {
   "cell_type": "code",
   "execution_count": 37,
   "metadata": {},
   "outputs": [
    {
     "name": "stdout",
     "output_type": "stream",
     "text": [
      "DatetimeIndex(['2019-01-31', '2019-02-28', '2019-03-31', '2019-04-30',\n",
      "               '2019-05-31', '2019-06-30', '2019-07-31', '2019-08-31',\n",
      "               '2019-09-30', '2019-10-31', '2019-11-30', '2019-12-31'],\n",
      "              dtype='datetime64[ns]', freq='M')\n",
      "DatetimeIndex(['2019-01-01', '2019-02-01', '2019-03-01', '2019-04-01',\n",
      "               '2019-05-01', '2019-06-01', '2019-07-01', '2019-08-01',\n",
      "               '2019-09-01', '2019-10-01', '2019-11-01', '2019-12-01'],\n",
      "              dtype='datetime64[ns]', freq='MS')\n"
     ]
    }
   ],
   "source": [
    "# pandas.date_range 函数的参数：start、end、periods、freq\n",
    "print(pd.date_range('2019-1-1', '2020', freq='M'))\n",
    "print(pd.date_range('2019-1-1', '2019-12-1', freq='MS'))"
   ]
  },
  {
   "cell_type": "code",
   "execution_count": 39,
   "metadata": {},
   "outputs": [
    {
     "name": "stdout",
     "output_type": "stream",
     "text": [
      "DatetimeIndex(['2018-01-01 00:00:00', '2018-01-01 01:00:00',\n",
      "               '2018-01-01 02:00:00', '2018-01-01 03:00:00',\n",
      "               '2018-01-01 04:00:00', '2018-01-01 05:00:00',\n",
      "               '2018-01-01 06:00:00', '2018-01-01 07:00:00',\n",
      "               '2018-01-01 08:00:00', '2018-01-01 09:00:00',\n",
      "               '2018-01-01 10:00:00', '2018-01-01 11:00:00',\n",
      "               '2018-01-01 12:00:00', '2018-01-01 13:00:00',\n",
      "               '2018-01-01 14:00:00', '2018-01-01 15:00:00',\n",
      "               '2018-01-01 16:00:00', '2018-01-01 17:00:00',\n",
      "               '2018-01-01 18:00:00', '2018-01-01 19:00:00',\n",
      "               '2018-01-01 20:00:00', '2018-01-01 21:00:00',\n",
      "               '2018-01-01 22:00:00', '2018-01-01 23:00:00',\n",
      "               '2018-01-02 00:00:00', '2018-01-02 01:00:00',\n",
      "               '2018-01-02 02:00:00', '2018-01-02 03:00:00',\n",
      "               '2018-01-02 04:00:00', '2018-01-02 05:00:00',\n",
      "               '2018-01-02 06:00:00', '2018-01-02 07:00:00',\n",
      "               '2018-01-02 08:00:00', '2018-01-02 09:00:00',\n",
      "               '2018-01-02 10:00:00', '2018-01-02 11:00:00',\n",
      "               '2018-01-02 12:00:00', '2018-01-02 13:00:00',\n",
      "               '2018-01-02 14:00:00', '2018-01-02 15:00:00',\n",
      "               '2018-01-02 16:00:00', '2018-01-02 17:00:00',\n",
      "               '2018-01-02 18:00:00', '2018-01-02 19:00:00',\n",
      "               '2018-01-02 20:00:00', '2018-01-02 21:00:00',\n",
      "               '2018-01-02 22:00:00', '2018-01-02 23:00:00'],\n",
      "              dtype='datetime64[ns]', freq='H')\n",
      "2018-01-01 00:00:00     0\n",
      "2018-01-01 01:00:00     1\n",
      "2018-01-01 02:00:00     2\n",
      "2018-01-01 03:00:00     3\n",
      "2018-01-01 04:00:00     4\n",
      "2018-01-01 05:00:00     5\n",
      "2018-01-01 06:00:00     6\n",
      "2018-01-01 07:00:00     7\n",
      "2018-01-01 08:00:00     8\n",
      "2018-01-01 09:00:00     9\n",
      "2018-01-01 10:00:00    10\n",
      "2018-01-01 11:00:00    11\n",
      "2018-01-01 12:00:00    12\n",
      "2018-01-01 13:00:00    13\n",
      "2018-01-01 14:00:00    14\n",
      "2018-01-01 15:00:00    15\n",
      "2018-01-01 16:00:00    16\n",
      "2018-01-01 17:00:00    17\n",
      "2018-01-01 18:00:00    18\n",
      "2018-01-01 19:00:00    19\n",
      "2018-01-01 20:00:00    20\n",
      "2018-01-01 21:00:00    21\n",
      "2018-01-01 22:00:00    22\n",
      "2018-01-01 23:00:00    23\n",
      "2018-01-02 00:00:00    24\n",
      "2018-01-02 01:00:00    25\n",
      "2018-01-02 02:00:00    26\n",
      "2018-01-02 03:00:00    27\n",
      "2018-01-02 04:00:00    28\n",
      "2018-01-02 05:00:00    29\n",
      "2018-01-02 06:00:00    30\n",
      "2018-01-02 07:00:00    31\n",
      "2018-01-02 08:00:00    32\n",
      "2018-01-02 09:00:00    33\n",
      "2018-01-02 10:00:00    34\n",
      "2018-01-02 11:00:00    35\n",
      "2018-01-02 12:00:00    36\n",
      "2018-01-02 13:00:00    37\n",
      "2018-01-02 14:00:00    38\n",
      "2018-01-02 15:00:00    39\n",
      "2018-01-02 16:00:00    40\n",
      "2018-01-02 17:00:00    41\n",
      "2018-01-02 18:00:00    42\n",
      "2018-01-02 19:00:00    43\n",
      "2018-01-02 20:00:00    44\n",
      "2018-01-02 21:00:00    45\n",
      "2018-01-02 22:00:00    46\n",
      "2018-01-02 23:00:00    47\n",
      "Freq: H, dtype: int64\n",
      "size:  48\n",
      "2018-01-01 00:00:00    0\n",
      "2018-01-01 01:00:00    1\n",
      "2018-01-01 02:00:00    2\n",
      "2018-01-01 03:00:00    3\n",
      "2018-01-01 04:00:00    4\n",
      "Freq: H, dtype: int64\n",
      "2018-01-02 19:00:00    43\n",
      "2018-01-02 20:00:00    44\n",
      "2018-01-02 21:00:00    45\n",
      "2018-01-02 22:00:00    46\n",
      "2018-01-02 23:00:00    47\n",
      "Freq: H, dtype: int64\n"
     ]
    }
   ],
   "source": [
    "# resample 方法 不仅仅支持高频率的数据聚合到低频率 （降采样），也支持低频率转化到高频率统计（升采样）\n",
    "dates = pd.date_range('2018-1-1', '2018-1-2 23:00:00', freq='H')\n",
    "print(dates)\n",
    "ts = Series(np.arange(len(dates)), index=dates)\n",
    "print(ts)\n",
    "print('size: ', ts.size)\n",
    "print(ts.head(5))\n",
    "print(ts.tail(5))"
   ]
  },
  {
   "cell_type": "code",
   "execution_count": 41,
   "metadata": {},
   "outputs": [
    {
     "data": {
      "text/plain": [
       "2018-01-01    276\n",
       "2018-01-02    852\n",
       "Freq: D, dtype: int64"
      ]
     },
     "execution_count": 41,
     "metadata": {},
     "output_type": "execute_result"
    }
   ],
   "source": [
    "ts.resample('D').sum()"
   ]
  },
  {
   "cell_type": "code",
   "execution_count": 42,
   "metadata": {},
   "outputs": [
    {
     "data": {
      "text/plain": [
       "2018-01-01    11.5\n",
       "2018-01-02    35.5\n",
       "Freq: D, dtype: float64"
      ]
     },
     "execution_count": 42,
     "metadata": {},
     "output_type": "execute_result"
    }
   ],
   "source": [
    "ts.resample('D').mean()"
   ]
  },
  {
   "cell_type": "code",
   "execution_count": 44,
   "metadata": {},
   "outputs": [
    {
     "name": "stdout",
     "output_type": "stream",
     "text": [
      "2018-01-01 00:00:00    11.5\n",
      "2018-01-01 01:00:00     NaN\n",
      "2018-01-01 02:00:00     NaN\n",
      "2018-01-01 03:00:00     NaN\n",
      "2018-01-01 04:00:00     NaN\n",
      "2018-01-01 05:00:00     NaN\n",
      "2018-01-01 06:00:00     NaN\n",
      "2018-01-01 07:00:00     NaN\n",
      "2018-01-01 08:00:00     NaN\n",
      "2018-01-01 09:00:00     NaN\n",
      "2018-01-01 10:00:00     NaN\n",
      "2018-01-01 11:00:00     NaN\n",
      "2018-01-01 12:00:00     NaN\n",
      "2018-01-01 13:00:00     NaN\n",
      "2018-01-01 14:00:00     NaN\n",
      "2018-01-01 15:00:00     NaN\n",
      "2018-01-01 16:00:00     NaN\n",
      "2018-01-01 17:00:00     NaN\n",
      "2018-01-01 18:00:00     NaN\n",
      "2018-01-01 19:00:00     NaN\n",
      "2018-01-01 20:00:00     NaN\n",
      "2018-01-01 21:00:00     NaN\n",
      "2018-01-01 22:00:00     NaN\n",
      "2018-01-01 23:00:00     NaN\n",
      "2018-01-02 00:00:00    35.5\n",
      "Freq: H, dtype: float64 \n",
      "\n",
      "2018-01-01 00:00:00    11.5\n",
      "2018-01-01 01:00:00    11.5\n",
      "2018-01-01 02:00:00    11.5\n",
      "2018-01-01 03:00:00    11.5\n",
      "2018-01-01 04:00:00    11.5\n",
      "2018-01-01 05:00:00    11.5\n",
      "2018-01-01 06:00:00    11.5\n",
      "2018-01-01 07:00:00    11.5\n",
      "2018-01-01 08:00:00    11.5\n",
      "2018-01-01 09:00:00    11.5\n",
      "2018-01-01 10:00:00    11.5\n",
      "2018-01-01 11:00:00    11.5\n",
      "2018-01-01 12:00:00    11.5\n",
      "2018-01-01 13:00:00    11.5\n",
      "2018-01-01 14:00:00    11.5\n",
      "2018-01-01 15:00:00    11.5\n",
      "2018-01-01 16:00:00    11.5\n",
      "2018-01-01 17:00:00    11.5\n",
      "2018-01-01 18:00:00    11.5\n",
      "2018-01-01 19:00:00    11.5\n",
      "2018-01-01 20:00:00    11.5\n",
      "2018-01-01 21:00:00    11.5\n",
      "2018-01-01 22:00:00    11.5\n",
      "2018-01-01 23:00:00    11.5\n",
      "2018-01-02 00:00:00    35.5\n",
      "Freq: H, dtype: float64\n"
     ]
    }
   ],
   "source": [
    "# 当把低频率的数据转换成高频率的数据时，默认情况下 Pandas 会引入 NaN 值，\n",
    "# 因为没办法从低频率的数据计算出高频率的数据， 但可以通过 fill_method 参数指定插值方式\n",
    "print(ts.resample('D').mean().resample('H').mean(), '\\n')\n",
    "print(ts.resample('D').mean().resample('H').ffill())"
   ]
  },
  {
   "cell_type": "code",
   "execution_count": null,
   "metadata": {},
   "outputs": [],
   "source": []
  }
 ],
 "metadata": {
  "kernelspec": {
   "display_name": "Python 3",
   "language": "python",
   "name": "python3"
  },
  "language_info": {
   "codemirror_mode": {
    "name": "ipython",
    "version": 3
   },
   "file_extension": ".py",
   "mimetype": "text/x-python",
   "name": "python",
   "nbconvert_exporter": "python",
   "pygments_lexer": "ipython3",
   "version": "3.7.0"
  }
 },
 "nbformat": 4,
 "nbformat_minor": 2
}
